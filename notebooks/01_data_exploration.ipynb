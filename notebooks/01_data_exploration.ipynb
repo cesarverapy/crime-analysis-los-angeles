{
 "cells": [
  {
   "cell_type": "markdown",
   "metadata": {},
   "source": [
    "# Crime Data Exploratory Data Analysis - Los Angeles"
   ]
  },
  {
   "cell_type": "markdown",
   "metadata": {},
   "source": [
    "> Setup"
   ]
  },
  {
   "cell_type": "code",
   "execution_count": 15,
   "metadata": {},
   "outputs": [],
   "source": [
    "import pandas as pd\n",
    "import numpy as np\n",
    "import matplotlib.pyplot as plt\n",
    "import seaborn as sns\n"
   ]
  },
  {
   "cell_type": "code",
   "execution_count": 16,
   "metadata": {},
   "outputs": [],
   "source": [
    "plt.style.use('seaborn-v0_8')\n",
    "sns.set_palette(\"husl\")"
   ]
  },
  {
   "cell_type": "markdown",
   "metadata": {},
   "source": [
    "> Data loading"
   ]
  },
  {
   "cell_type": "code",
   "execution_count": 17,
   "metadata": {},
   "outputs": [],
   "source": [
    "df_crimes = pd.read_csv(\n",
    "    'dataset/crimes.csv',\n",
    "    parse_dates=['Date Rptd', 'DATE OCC'],\n",
    "    dtype={'TIME OCC': str},\n",
    "    low_memory=False\n",
    ")"
   ]
  },
  {
   "cell_type": "markdown",
   "metadata": {},
   "source": [
    "Initial Dataset Overview"
   ]
  },
  {
   "cell_type": "code",
   "execution_count": 41,
   "metadata": {},
   "outputs": [
    {
     "name": "stdout",
     "output_type": "stream",
     "text": [
      "<class 'pandas.core.frame.DataFrame'>\n",
      "RangeIndex: 185715 entries, 0 to 185714\n",
      "Data columns (total 18 columns):\n",
      " #   Column        Non-Null Count   Dtype         \n",
      "---  ------        --------------   -----         \n",
      " 0   DR_NO         185715 non-null  int64         \n",
      " 1   Date Rptd     185715 non-null  datetime64[ns]\n",
      " 2   DATE OCC      185715 non-null  datetime64[ns]\n",
      " 3   TIME OCC      185715 non-null  object        \n",
      " 4   AREA NAME     185715 non-null  object        \n",
      " 5   Crm Cd Desc   185715 non-null  object        \n",
      " 6   Vict Age      185715 non-null  int64         \n",
      " 7   Vict Sex      185715 non-null  object        \n",
      " 8   Vict Descent  185715 non-null  object        \n",
      " 9   Weapon Desc   185715 non-null  object        \n",
      " 10  Status Desc   185715 non-null  object        \n",
      " 11  LOCATION      185715 non-null  object        \n",
      " 12  HOUR          185715 non-null  int64         \n",
      " 13  Month         185715 non-null  int32         \n",
      " 14  Year          185715 non-null  int32         \n",
      " 15  Day           185715 non-null  int32         \n",
      " 16  DayOfWeek     185715 non-null  object        \n",
      " 17  TimeToReport  185715 non-null  int64         \n",
      "dtypes: datetime64[ns](2), int32(3), int64(4), object(9)\n",
      "memory usage: 23.4+ MB\n"
     ]
    },
    {
     "data": {
      "text/html": [
       "<div>\n",
       "<style scoped>\n",
       "    .dataframe tbody tr th:only-of-type {\n",
       "        vertical-align: middle;\n",
       "    }\n",
       "\n",
       "    .dataframe tbody tr th {\n",
       "        vertical-align: top;\n",
       "    }\n",
       "\n",
       "    .dataframe thead th {\n",
       "        text-align: right;\n",
       "    }\n",
       "</style>\n",
       "<table border=\"1\" class=\"dataframe\">\n",
       "  <thead>\n",
       "    <tr style=\"text-align: right;\">\n",
       "      <th></th>\n",
       "      <th>DR_NO</th>\n",
       "      <th>Date Rptd</th>\n",
       "      <th>DATE OCC</th>\n",
       "      <th>TIME OCC</th>\n",
       "      <th>AREA NAME</th>\n",
       "      <th>Crm Cd Desc</th>\n",
       "      <th>Vict Age</th>\n",
       "      <th>Vict Sex</th>\n",
       "      <th>Vict Descent</th>\n",
       "      <th>Weapon Desc</th>\n",
       "      <th>Status Desc</th>\n",
       "      <th>LOCATION</th>\n",
       "      <th>HOUR</th>\n",
       "      <th>Month</th>\n",
       "      <th>Year</th>\n",
       "      <th>Day</th>\n",
       "      <th>DayOfWeek</th>\n",
       "      <th>TimeToReport</th>\n",
       "    </tr>\n",
       "  </thead>\n",
       "  <tbody>\n",
       "    <tr>\n",
       "      <th>0</th>\n",
       "      <td>220314085</td>\n",
       "      <td>2022-07-22</td>\n",
       "      <td>2020-05-12</td>\n",
       "      <td>1110</td>\n",
       "      <td>Southwest</td>\n",
       "      <td>THEFT OF IDENTITY</td>\n",
       "      <td>27</td>\n",
       "      <td>F</td>\n",
       "      <td>B</td>\n",
       "      <td>No Weapon/Unknown</td>\n",
       "      <td>Invest Cont</td>\n",
       "      <td>2500 S  SYCAMORE                     AV</td>\n",
       "      <td>11</td>\n",
       "      <td>5</td>\n",
       "      <td>2020</td>\n",
       "      <td>12</td>\n",
       "      <td>Tuesday</td>\n",
       "      <td>801</td>\n",
       "    </tr>\n",
       "    <tr>\n",
       "      <th>1</th>\n",
       "      <td>222013040</td>\n",
       "      <td>2022-08-06</td>\n",
       "      <td>2020-06-04</td>\n",
       "      <td>1620</td>\n",
       "      <td>Olympic</td>\n",
       "      <td>THEFT OF IDENTITY</td>\n",
       "      <td>60</td>\n",
       "      <td>M</td>\n",
       "      <td>H</td>\n",
       "      <td>No Weapon/Unknown</td>\n",
       "      <td>Invest Cont</td>\n",
       "      <td>3300    SAN MARINO                   ST</td>\n",
       "      <td>16</td>\n",
       "      <td>6</td>\n",
       "      <td>2020</td>\n",
       "      <td>4</td>\n",
       "      <td>Thursday</td>\n",
       "      <td>793</td>\n",
       "    </tr>\n",
       "    <tr>\n",
       "      <th>2</th>\n",
       "      <td>220614831</td>\n",
       "      <td>2022-08-18</td>\n",
       "      <td>2020-08-17</td>\n",
       "      <td>1200</td>\n",
       "      <td>Hollywood</td>\n",
       "      <td>THEFT OF IDENTITY</td>\n",
       "      <td>28</td>\n",
       "      <td>M</td>\n",
       "      <td>H</td>\n",
       "      <td>No Weapon/Unknown</td>\n",
       "      <td>Invest Cont</td>\n",
       "      <td>1900    TRANSIENT</td>\n",
       "      <td>12</td>\n",
       "      <td>8</td>\n",
       "      <td>2020</td>\n",
       "      <td>17</td>\n",
       "      <td>Monday</td>\n",
       "      <td>731</td>\n",
       "    </tr>\n",
       "    <tr>\n",
       "      <th>3</th>\n",
       "      <td>231207725</td>\n",
       "      <td>2023-02-27</td>\n",
       "      <td>2020-01-27</td>\n",
       "      <td>0635</td>\n",
       "      <td>77th Street</td>\n",
       "      <td>THEFT OF IDENTITY</td>\n",
       "      <td>37</td>\n",
       "      <td>M</td>\n",
       "      <td>H</td>\n",
       "      <td>No Weapon/Unknown</td>\n",
       "      <td>Invest Cont</td>\n",
       "      <td>6200    4TH                          AV</td>\n",
       "      <td>6</td>\n",
       "      <td>1</td>\n",
       "      <td>2020</td>\n",
       "      <td>27</td>\n",
       "      <td>Monday</td>\n",
       "      <td>1127</td>\n",
       "    </tr>\n",
       "    <tr>\n",
       "      <th>4</th>\n",
       "      <td>220213256</td>\n",
       "      <td>2022-07-14</td>\n",
       "      <td>2020-07-14</td>\n",
       "      <td>0900</td>\n",
       "      <td>Rampart</td>\n",
       "      <td>THEFT OF IDENTITY</td>\n",
       "      <td>79</td>\n",
       "      <td>M</td>\n",
       "      <td>B</td>\n",
       "      <td>No Weapon/Unknown</td>\n",
       "      <td>Invest Cont</td>\n",
       "      <td>1200 W  7TH                          ST</td>\n",
       "      <td>9</td>\n",
       "      <td>7</td>\n",
       "      <td>2020</td>\n",
       "      <td>14</td>\n",
       "      <td>Tuesday</td>\n",
       "      <td>730</td>\n",
       "    </tr>\n",
       "  </tbody>\n",
       "</table>\n",
       "</div>"
      ],
      "text/plain": [
       "       DR_NO  Date Rptd   DATE OCC TIME OCC    AREA NAME        Crm Cd Desc  \\\n",
       "0  220314085 2022-07-22 2020-05-12     1110    Southwest  THEFT OF IDENTITY   \n",
       "1  222013040 2022-08-06 2020-06-04     1620      Olympic  THEFT OF IDENTITY   \n",
       "2  220614831 2022-08-18 2020-08-17     1200    Hollywood  THEFT OF IDENTITY   \n",
       "3  231207725 2023-02-27 2020-01-27     0635  77th Street  THEFT OF IDENTITY   \n",
       "4  220213256 2022-07-14 2020-07-14     0900      Rampart  THEFT OF IDENTITY   \n",
       "\n",
       "   Vict Age Vict Sex Vict Descent        Weapon Desc  Status Desc  \\\n",
       "0        27        F            B  No Weapon/Unknown  Invest Cont   \n",
       "1        60        M            H  No Weapon/Unknown  Invest Cont   \n",
       "2        28        M            H  No Weapon/Unknown  Invest Cont   \n",
       "3        37        M            H  No Weapon/Unknown  Invest Cont   \n",
       "4        79        M            B  No Weapon/Unknown  Invest Cont   \n",
       "\n",
       "                                  LOCATION  HOUR  Month  Year  Day DayOfWeek  \\\n",
       "0  2500 S  SYCAMORE                     AV    11      5  2020   12   Tuesday   \n",
       "1  3300    SAN MARINO                   ST    16      6  2020    4  Thursday   \n",
       "2                        1900    TRANSIENT    12      8  2020   17    Monday   \n",
       "3  6200    4TH                          AV     6      1  2020   27    Monday   \n",
       "4  1200 W  7TH                          ST     9      7  2020   14   Tuesday   \n",
       "\n",
       "   TimeToReport  \n",
       "0           801  \n",
       "1           793  \n",
       "2           731  \n",
       "3          1127  \n",
       "4           730  "
      ]
     },
     "execution_count": 41,
     "metadata": {},
     "output_type": "execute_result"
    }
   ],
   "source": [
    "df_crimes.info()\n",
    "df_crimes.head()"
   ]
  },
  {
   "cell_type": "markdown",
   "metadata": {},
   "source": [
    "Data Cleaning and Preprocessing"
   ]
  },
  {
   "cell_type": "markdown",
   "metadata": {},
   "source": [
    ">standardize time format and extract hour"
   ]
  },
  {
   "cell_type": "code",
   "execution_count": 20,
   "metadata": {},
   "outputs": [],
   "source": [
    "df_crimes['HOUR'] = df_crimes['TIME OCC'].str.zfill(4).str[:2].astype(int)"
   ]
  },
  {
   "cell_type": "markdown",
   "metadata": {},
   "source": [
    "> Handle missing values"
   ]
  },
  {
   "cell_type": "code",
   "execution_count": 21,
   "metadata": {},
   "outputs": [
    {
     "data": {
      "text/plain": [
       "DR_NO                0\n",
       "Date Rptd            0\n",
       "DATE OCC             0\n",
       "TIME OCC             0\n",
       "AREA NAME            0\n",
       "Crm Cd Desc          0\n",
       "Vict Age             0\n",
       "Vict Sex            11\n",
       "Vict Descent        10\n",
       "Weapon Desc     112213\n",
       "Status Desc          0\n",
       "LOCATION             0\n",
       "HOUR                 0\n",
       "dtype: int64"
      ]
     },
     "execution_count": 21,
     "metadata": {},
     "output_type": "execute_result"
    }
   ],
   "source": [
    "missing_data = df_crimes.isnull().sum()\n",
    "missing_data"
   ]
  },
  {
   "cell_type": "code",
   "execution_count": 24,
   "metadata": {},
   "outputs": [],
   "source": [
    "df_crimes['Vict Sex'] = df_crimes['Vict Sex'].fillna('Unknown')\n",
    "df_crimes['Vict Descent'] = df_crimes['Vict Descent'].fillna('Unknown')\n",
    "df_crimes['Weapon Desc'] = df_crimes['Weapon Desc'].fillna('No Weapon/Unknown')"
   ]
  },
  {
   "cell_type": "markdown",
   "metadata": {},
   "source": [
    "> Extract additional time features"
   ]
  },
  {
   "cell_type": "code",
   "execution_count": 25,
   "metadata": {},
   "outputs": [],
   "source": [
    "df_crimes['Month'] = df_crimes['DATE OCC'].dt.month\n",
    "df_crimes['Year'] = df_crimes['DATE OCC'].dt.year\n",
    "df_crimes['Day'] = df_crimes['DATE OCC'].dt.day\n",
    "df_crimes['DayOfWeek'] = df_crimes['DATE OCC'].dt.day_name()"
   ]
  },
  {
   "cell_type": "markdown",
   "metadata": {},
   "source": [
    "> Calculate time to report (days between occurrence and reporting)\n"
   ]
  },
  {
   "cell_type": "code",
   "execution_count": null,
   "metadata": {},
   "outputs": [],
   "source": [
    "df_crimes['TimeToReport'] = (df_crimes['Date Rptd'] - df_crimes['DATE OCC']).dt.days"
   ]
  },
  {
   "cell_type": "code",
   "execution_count": 39,
   "metadata": {},
   "outputs": [
    {
     "name": "stdout",
     "output_type": "stream",
     "text": [
      "Dataset Overview:\n",
      "--------------------------------------------------\n",
      "Number of Records: 185,715\n",
      "Time Period: 2020 to 2023\n",
      "Number of Unique Crime Types: 104\n",
      "Number of Areas: 21\n",
      "\n",
      "Missing Values:\n",
      "DR_NO           0\n",
      "Date Rptd       0\n",
      "DATE OCC        0\n",
      "TIME OCC        0\n",
      "AREA NAME       0\n",
      "Crm Cd Desc     0\n",
      "Vict Age        0\n",
      "Vict Sex        0\n",
      "Vict Descent    0\n",
      "Weapon Desc     0\n",
      "Status Desc     0\n",
      "LOCATION        0\n",
      "HOUR            0\n",
      "Month           0\n",
      "Year            0\n",
      "Day             0\n",
      "DayOfWeek       0\n",
      "TimeToReport    0\n",
      "dtype: int64\n"
     ]
    }
   ],
   "source": [
    "# 4. Basic Dataset Information\n",
    "def print_dataset_info(df):\n",
    "    print(\"Dataset Overview:\")\n",
    "    print(\"-\" * 50)\n",
    "    print(f\"Number of Records: {len(df):,}\")\n",
    "    print(f\"Time Period: {df['DATE OCC'].min().year} to {df['DATE OCC'].max().year}\")\n",
    "    print(f\"Number of Unique Crime Types: {df['Crm Cd Desc'].nunique()}\")\n",
    "    print(f\"Number of Areas: {df['AREA NAME'].nunique()}\")\n",
    "    print(\"\\nMissing Values:\")\n",
    "    print(df.isnull().sum())\n",
    "\n",
    "print_dataset_info(df_crimes)\n"
   ]
  },
  {
   "cell_type": "code",
   "execution_count": null,
   "metadata": {},
   "outputs": [
    {
     "name": "stdout",
     "output_type": "stream",
     "text": [
      "Dataset Overview:\n",
      "--------------------------------------------------\n",
      "Number of Records: 185,715\n",
      "Time Period: 2020 to 2023\n",
      "Number of Unique Crime Types: 104\n",
      "Number of Areas: 21\n",
      "\n",
      "Missing Values:\n",
      "DR_NO           0\n",
      "Date Rptd       0\n",
      "DATE OCC        0\n",
      "TIME OCC        0\n",
      "AREA NAME       0\n",
      "Crm Cd Desc     0\n",
      "Vict Age        0\n",
      "Vict Sex        0\n",
      "Vict Descent    0\n",
      "Weapon Desc     0\n",
      "Status Desc     0\n",
      "LOCATION        0\n",
      "HOUR            0\n",
      "Month           0\n",
      "Year            0\n",
      "Day             0\n",
      "DayOfWeek       0\n",
      "TimeToReport    0\n",
      "dtype: int64\n"
     ]
    }
   ],
   "source": []
  }
 ],
 "metadata": {
  "kernelspec": {
   "display_name": ".venv",
   "language": "python",
   "name": "python3"
  },
  "language_info": {
   "codemirror_mode": {
    "name": "ipython",
    "version": 3
   },
   "file_extension": ".py",
   "mimetype": "text/x-python",
   "name": "python",
   "nbconvert_exporter": "python",
   "pygments_lexer": "ipython3",
   "version": "3.12.9"
  }
 },
 "nbformat": 4,
 "nbformat_minor": 2
}
